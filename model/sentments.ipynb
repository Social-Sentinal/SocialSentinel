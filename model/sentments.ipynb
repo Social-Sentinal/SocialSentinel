{
 "cells": [
  {
   "cell_type": "code",
   "execution_count": 1,
   "metadata": {},
   "outputs": [],
   "source": [
    "import pandas as pd \n",
    "import numpy as np \n",
    "import matplotlib.pyplot as plt"
   ]
  },
  {
   "cell_type": "code",
   "execution_count": 5,
   "metadata": {},
   "outputs": [],
   "source": [
    "senti = pd.read_csv(\n",
    "    \"D:\\Github\\SocialSentinel\\data\\d3\\insta_sentiment_data.csv\")"
   ]
  },
  {
   "cell_type": "code",
   "execution_count": 7,
   "metadata": {},
   "outputs": [
    {
     "data": {
      "text/html": [
       "<div>\n",
       "<style scoped>\n",
       "    .dataframe tbody tr th:only-of-type {\n",
       "        vertical-align: middle;\n",
       "    }\n",
       "\n",
       "    .dataframe tbody tr th {\n",
       "        vertical-align: top;\n",
       "    }\n",
       "\n",
       "    .dataframe thead th {\n",
       "        text-align: right;\n",
       "    }\n",
       "</style>\n",
       "<table border=\"1\" class=\"dataframe\">\n",
       "  <thead>\n",
       "    <tr style=\"text-align: right;\">\n",
       "      <th></th>\n",
       "      <th>title</th>\n",
       "      <th>subreddit</th>\n",
       "      <th>selftext</th>\n",
       "      <th>url</th>\n",
       "      <th>sentiment_label</th>\n",
       "      <th>sentiment_score</th>\n",
       "    </tr>\n",
       "  </thead>\n",
       "  <tbody>\n",
       "    <tr>\n",
       "      <th>0</th>\n",
       "      <td>Instagram Addiction - How to fix it?</td>\n",
       "      <td>digitalminimalism</td>\n",
       "      <td>Hey guys? Hope you all are doing well.\\n\\nI h...</td>\n",
       "      <td>https://www.reddit.com/r/digitalminimalism/com...</td>\n",
       "      <td>NEGATIVE</td>\n",
       "      <td>0.998228</td>\n",
       "    </tr>\n",
       "    <tr>\n",
       "      <th>1</th>\n",
       "      <td>How I Broke My Instagram Addiction: A How To G...</td>\n",
       "      <td>DecidingToBeBetter</td>\n",
       "      <td>If anyone’s interested in the full article ple...</td>\n",
       "      <td>https://www.reddit.com/r/DecidingToBeBetter/co...</td>\n",
       "      <td>POSITIVE</td>\n",
       "      <td>0.995228</td>\n",
       "    </tr>\n",
       "    <tr>\n",
       "      <th>2</th>\n",
       "      <td>Instagram Addiction - How to fix it?</td>\n",
       "      <td>nosurf</td>\n",
       "      <td>Hey guys? Hope you all are doing well. \\n\\nI h...</td>\n",
       "      <td>https://www.reddit.com/r/nosurf/comments/16uyz...</td>\n",
       "      <td>NEGATIVE</td>\n",
       "      <td>0.998228</td>\n",
       "    </tr>\n",
       "    <tr>\n",
       "      <th>3</th>\n",
       "      <td>What instagram really does to people's brains,...</td>\n",
       "      <td>videos</td>\n",
       "      <td>NaN</td>\n",
       "      <td>https://www.youtube.com/watch?v=-Paf3e1gCsE</td>\n",
       "      <td>POSITIVE</td>\n",
       "      <td>0.716438</td>\n",
       "    </tr>\n",
       "    <tr>\n",
       "      <th>4</th>\n",
       "      <td>Addicted to Instagram</td>\n",
       "      <td>nosurf</td>\n",
       "      <td>Hi everyone,\\n\\nI'll cut to the chase here. I'...</td>\n",
       "      <td>https://www.reddit.com/r/nosurf/comments/c9hv9...</td>\n",
       "      <td>NEGATIVE</td>\n",
       "      <td>0.982042</td>\n",
       "    </tr>\n",
       "  </tbody>\n",
       "</table>\n",
       "</div>"
      ],
      "text/plain": [
       "                                               title           subreddit  \\\n",
       "0               Instagram Addiction - How to fix it?   digitalminimalism   \n",
       "1  How I Broke My Instagram Addiction: A How To G...  DecidingToBeBetter   \n",
       "2               Instagram Addiction - How to fix it?              nosurf   \n",
       "3  What instagram really does to people's brains,...              videos   \n",
       "4                              Addicted to Instagram              nosurf   \n",
       "\n",
       "                                            selftext  \\\n",
       "0   Hey guys? Hope you all are doing well.\\n\\nI h...   \n",
       "1  If anyone’s interested in the full article ple...   \n",
       "2  Hey guys? Hope you all are doing well. \\n\\nI h...   \n",
       "3                                                NaN   \n",
       "4  Hi everyone,\\n\\nI'll cut to the chase here. I'...   \n",
       "\n",
       "                                                 url sentiment_label  \\\n",
       "0  https://www.reddit.com/r/digitalminimalism/com...        NEGATIVE   \n",
       "1  https://www.reddit.com/r/DecidingToBeBetter/co...        POSITIVE   \n",
       "2  https://www.reddit.com/r/nosurf/comments/16uyz...        NEGATIVE   \n",
       "3        https://www.youtube.com/watch?v=-Paf3e1gCsE        POSITIVE   \n",
       "4  https://www.reddit.com/r/nosurf/comments/c9hv9...        NEGATIVE   \n",
       "\n",
       "   sentiment_score  \n",
       "0         0.998228  \n",
       "1         0.995228  \n",
       "2         0.998228  \n",
       "3         0.716438  \n",
       "4         0.982042  "
      ]
     },
     "execution_count": 7,
     "metadata": {},
     "output_type": "execute_result"
    }
   ],
   "source": [
    "senti.head(5)"
   ]
  },
  {
   "cell_type": "code",
   "execution_count": 14,
   "metadata": {},
   "outputs": [],
   "source": [
    "from textblob import TextBlob\n",
    "def analyze_sentiment(title):\n",
    "    sentiment = TextBlob(title).sentiment.polarity\n",
    "    return sentiment"
   ]
  },
  {
   "cell_type": "code",
   "execution_count": null,
   "metadata": {},
   "outputs": [],
   "source": []
  }
 ],
 "metadata": {
  "language_info": {
   "name": "python"
  }
 },
 "nbformat": 4,
 "nbformat_minor": 2
}
