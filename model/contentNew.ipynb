{
 "cells": [
  {
   "cell_type": "code",
   "execution_count": 64,
   "metadata": {},
   "outputs": [],
   "source": [
    "import pandas as pd\n",
    "from sklearn.feature_extraction.text import TfidfVectorizer\n",
    "from nltk.corpus import stopwords\n",
    "import re\n",
    "import nltk"
   ]
  },
  {
   "cell_type": "code",
   "execution_count": 66,
   "metadata": {},
   "outputs": [
    {
     "name": "stderr",
     "output_type": "stream",
     "text": [
      "[nltk_data] Downloading package stopwords to\n",
      "[nltk_data]     C:\\Users\\hp\\AppData\\Roaming\\nltk_data...\n",
      "[nltk_data]   Package stopwords is already up-to-date!\n"
     ]
    }
   ],
   "source": [
    "nltk.download('stopwords')\n",
    "stop_words = set(stopwords.words('english'))"
   ]
  },
  {
   "cell_type": "code",
   "execution_count": 67,
   "metadata": {},
   "outputs": [],
   "source": [
    "# Combine Caption, Hashtags, and Comment_Text into a single content field\n",
    "df['content'] = df['Caption'].fillna(\n",
    "    '') + ' ' + df['Hashtags'].fillna('') + ' ' + df['Comment_Text'].fillna('')"
   ]
  },
  {
   "cell_type": "code",
   "execution_count": 68,
   "metadata": {},
   "outputs": [],
   "source": [
    "# Clean the text\n",
    "def clean_text(text):\n",
    "    text = re.sub(r'http\\S+', '', text)  # remove URLs\n",
    "    # remove special characters and numbers\n",
    "    text = re.sub(r'[^a-zA-Z\\s]', '', text)\n",
    "    text = text.lower()\n",
    "    text = ' '.join([word for word in text.split() if word not in stop_words])\n",
    "    return text\n",
    "\n",
    "\n",
    "df['clean_content'] = df['content'].apply(clean_text)"
   ]
  },
  {
   "cell_type": "code",
   "execution_count": 69,
   "metadata": {},
   "outputs": [],
   "source": [
    "# Apply TF-IDF Vectorizer\n",
    "tfidf = TfidfVectorizer(max_features=5000)\n",
    "tfidf_matrix = tfidf.fit_transform(df['clean_content'])"
   ]
  },
  {
   "cell_type": "code",
   "execution_count": 70,
   "metadata": {},
   "outputs": [],
   "source": [
    "import numpy as np\n",
    "from sklearn.feature_extraction.text import TfidfVectorizer\n",
    "from sklearn.metrics.pairwise import cosine_similarity"
   ]
  },
  {
   "cell_type": "code",
   "execution_count": 71,
   "metadata": {},
   "outputs": [],
   "source": [
    "# Select a user for recommendations\n",
    "user_id = 100\n",
    "\n",
    "# Get the user's profile vector and reshape it to be 2D (1, n_features)\n",
    "user_profile_vector = np.asarray(\n",
    "    user_profiles[user_id]).reshape(1, -1)  # Reshape to 2D\n",
    "\n",
    "# Calculate cosine similarities between the user's profile and all post vectors\n",
    "cosine_similarities = cosine_similarity(\n",
    "    user_profile_vector, tfidf_matrix)  # Both inputs must be 2D\n",
    "\n",
    "# Rank the posts based on cosine similarity (the higher the score, the better the match)\n",
    "recommended_post_indices = np.argsort(\n",
    "    cosine_similarities[0])[-10:]  # Top 10 recommended posts\n",
    "\n",
    "# Output the recommended posts\n",
    "recommended_posts = df.iloc[recommended_post_indices]"
   ]
  },
  {
   "cell_type": "code",
   "execution_count": 72,
   "metadata": {},
   "outputs": [],
   "source": [
    "# Re-rank posts based on engagement and sentiment\n",
    "df['weighted_score'] = df['Engagement_Score'] * \\\n",
    "    0.7 + df['Sentiment_Score'] * 0.3\n",
    "final_recommendations = df.iloc[recommended_post_indices].sort_values(\n",
    "    by='weighted_score', ascending=False)"
   ]
  },
  {
   "cell_type": "code",
   "execution_count": 73,
   "metadata": {},
   "outputs": [
    {
     "data": {
      "text/plain": [
       "0    experience across girl expect fight\n",
       "1                          walk property\n",
       "2                              cover hit\n",
       "3      itself throughout thought citizen\n",
       "4                  speak clear necessary\n",
       "5              talk offer model continue\n",
       "6                     cover foreign girl\n",
       "7                             TV against\n",
       "8                                    yes\n",
       "9                     realize raise wall\n",
       "Name: Hashtags, dtype: object"
      ]
     },
     "execution_count": 73,
     "metadata": {},
     "output_type": "execute_result"
    }
   ],
   "source": [
    "df['Hashtags'].head(10)"
   ]
  },
  {
   "cell_type": "code",
   "execution_count": 74,
   "metadata": {},
   "outputs": [],
   "source": [
    "from sklearn.model_selection import train_test_split\n",
    "\n",
    "# Split the data into train and test sets\n",
    "train, test = train_test_split(df, test_size=0.2, random_state=42)"
   ]
  },
  {
   "cell_type": "code",
   "execution_count": 75,
   "metadata": {},
   "outputs": [
    {
     "data": {
      "text/plain": [
       "0.0"
      ]
     },
     "execution_count": 75,
     "metadata": {},
     "output_type": "execute_result"
    }
   ],
   "source": [
    "def precision_at_k(recommended_posts, true_interactions, k):\n",
    "    relevant = set(true_interactions[:k])\n",
    "    recommended = set(recommended_posts[:k])\n",
    "    return len(relevant.intersection(recommended)) / k\n",
    "\n",
    "\n",
    "# Calculate Precision@K for a user\n",
    "precision_at_k(recommended_posts['post_id'],\n",
    "               test[test['user_id'] == user_id]['post_id'], k=10)"
   ]
  },
  {
   "cell_type": "code",
   "execution_count": 77,
   "metadata": {},
   "outputs": [
    {
     "name": "stdout",
     "output_type": "stream",
     "text": [
      "Top recommended posts for user_id = 1:\n"
     ]
    },
    {
     "data": {
      "text/html": [
       "<div>\n",
       "<style scoped>\n",
       "    .dataframe tbody tr th:only-of-type {\n",
       "        vertical-align: middle;\n",
       "    }\n",
       "\n",
       "    .dataframe tbody tr th {\n",
       "        vertical-align: top;\n",
       "    }\n",
       "\n",
       "    .dataframe thead th {\n",
       "        text-align: right;\n",
       "    }\n",
       "</style>\n",
       "<table border=\"1\" class=\"dataframe\">\n",
       "  <thead>\n",
       "    <tr style=\"text-align: right;\">\n",
       "      <th></th>\n",
       "      <th>post_id</th>\n",
       "      <th>Caption</th>\n",
       "      <th>Hashtags</th>\n",
       "    </tr>\n",
       "  </thead>\n",
       "  <tbody>\n",
       "    <tr>\n",
       "      <th>459</th>\n",
       "      <td>835</td>\n",
       "      <td>Successful stuff discover wear big girl his de...</td>\n",
       "      <td>between</td>\n",
       "    </tr>\n",
       "    <tr>\n",
       "      <th>814</th>\n",
       "      <td>15</td>\n",
       "      <td>Gun receive knowledge there.</td>\n",
       "      <td>best town today travel style</td>\n",
       "    </tr>\n",
       "    <tr>\n",
       "      <th>766</th>\n",
       "      <td>23</td>\n",
       "      <td>Memory knowledge western company son list ever...</td>\n",
       "      <td>performance boy but</td>\n",
       "    </tr>\n",
       "    <tr>\n",
       "      <th>85</th>\n",
       "      <td>541</td>\n",
       "      <td>Leave adult much drive dog wrong seat someone ...</td>\n",
       "      <td>chair great business</td>\n",
       "    </tr>\n",
       "    <tr>\n",
       "      <th>212</th>\n",
       "      <td>214</td>\n",
       "      <td>Phone that me federal part off economic ago role.</td>\n",
       "      <td>process car</td>\n",
       "    </tr>\n",
       "    <tr>\n",
       "      <th>191</th>\n",
       "      <td>0</td>\n",
       "      <td>Fire as assume idea moment.</td>\n",
       "      <td>learn too</td>\n",
       "    </tr>\n",
       "    <tr>\n",
       "      <th>261</th>\n",
       "      <td>498</td>\n",
       "      <td>Dog purpose since defense see employee player ...</td>\n",
       "      <td>behavior</td>\n",
       "    </tr>\n",
       "    <tr>\n",
       "      <th>381</th>\n",
       "      <td>768</td>\n",
       "      <td>Pretty big manage offer question new Mrs rich ...</td>\n",
       "      <td>future rate</td>\n",
       "    </tr>\n",
       "    <tr>\n",
       "      <th>168</th>\n",
       "      <td>457</td>\n",
       "      <td>Very dog finally and goal social worry threat.</td>\n",
       "      <td>give</td>\n",
       "    </tr>\n",
       "    <tr>\n",
       "      <th>128</th>\n",
       "      <td>380</td>\n",
       "      <td>Real Mrs doctor side phone goal no practice kn...</td>\n",
       "      <td>behavior dog as today</td>\n",
       "    </tr>\n",
       "  </tbody>\n",
       "</table>\n",
       "</div>"
      ],
      "text/plain": [
       "     post_id                                            Caption  \\\n",
       "459      835  Successful stuff discover wear big girl his de...   \n",
       "814       15                       Gun receive knowledge there.   \n",
       "766       23  Memory knowledge western company son list ever...   \n",
       "85       541  Leave adult much drive dog wrong seat someone ...   \n",
       "212      214  Phone that me federal part off economic ago role.   \n",
       "191        0                        Fire as assume idea moment.   \n",
       "261      498  Dog purpose since defense see employee player ...   \n",
       "381      768  Pretty big manage offer question new Mrs rich ...   \n",
       "168      457     Very dog finally and goal social worry threat.   \n",
       "128      380  Real Mrs doctor side phone goal no practice kn...   \n",
       "\n",
       "                         Hashtags  \n",
       "459                       between  \n",
       "814  best town today travel style  \n",
       "766           performance boy but  \n",
       "85           chair great business  \n",
       "212                   process car  \n",
       "191                     learn too  \n",
       "261                      behavior  \n",
       "381                   future rate  \n",
       "168                          give  \n",
       "128         behavior dog as today  "
      ]
     },
     "execution_count": 77,
     "metadata": {},
     "output_type": "execute_result"
    }
   ],
   "source": [
    "# Output recommended posts\n",
    "print(\"Top recommended posts for user_id = 1:\")\n",
    "recommended_posts[['post_id', 'Caption', 'Hashtags']]"
   ]
  },
  {
   "cell_type": "code",
   "execution_count": 78,
   "metadata": {},
   "outputs": [],
   "source": [
    "# Get the top 3 posts with the highest cosine similarity\n",
    "top_post_indices = cosine_similarities.argsort(\n",
    ")[0][-3:][::-1]  # Sort in descending order\n",
    "recommended_posts = df.iloc[top_post_indices]"
   ]
  },
  {
   "cell_type": "code",
   "execution_count": 79,
   "metadata": {},
   "outputs": [
    {
     "name": "stdout",
     "output_type": "stream",
     "text": [
      "Re-ranked recommended posts (based on engagement and sentiment):\n"
     ]
    },
    {
     "data": {
      "text/html": [
       "<div>\n",
       "<style scoped>\n",
       "    .dataframe tbody tr th:only-of-type {\n",
       "        vertical-align: middle;\n",
       "    }\n",
       "\n",
       "    .dataframe tbody tr th {\n",
       "        vertical-align: top;\n",
       "    }\n",
       "\n",
       "    .dataframe thead th {\n",
       "        text-align: right;\n",
       "    }\n",
       "</style>\n",
       "<table border=\"1\" class=\"dataframe\">\n",
       "  <thead>\n",
       "    <tr style=\"text-align: right;\">\n",
       "      <th></th>\n",
       "      <th>post_id</th>\n",
       "      <th>Caption</th>\n",
       "      <th>Hashtags</th>\n",
       "      <th>weighted_score</th>\n",
       "    </tr>\n",
       "  </thead>\n",
       "  <tbody>\n",
       "    <tr>\n",
       "      <th>168</th>\n",
       "      <td>457</td>\n",
       "      <td>Very dog finally and goal social worry threat.</td>\n",
       "      <td>give</td>\n",
       "      <td>749.066</td>\n",
       "    </tr>\n",
       "    <tr>\n",
       "      <th>381</th>\n",
       "      <td>768</td>\n",
       "      <td>Pretty big manage offer question new Mrs rich ...</td>\n",
       "      <td>future rate</td>\n",
       "      <td>695.103</td>\n",
       "    </tr>\n",
       "    <tr>\n",
       "      <th>128</th>\n",
       "      <td>380</td>\n",
       "      <td>Real Mrs doctor side phone goal no practice kn...</td>\n",
       "      <td>behavior dog as today</td>\n",
       "      <td>643.964</td>\n",
       "    </tr>\n",
       "  </tbody>\n",
       "</table>\n",
       "</div>"
      ],
      "text/plain": [
       "     post_id                                            Caption  \\\n",
       "168      457     Very dog finally and goal social worry threat.   \n",
       "381      768  Pretty big manage offer question new Mrs rich ...   \n",
       "128      380  Real Mrs doctor side phone goal no practice kn...   \n",
       "\n",
       "                  Hashtags  weighted_score  \n",
       "168                   give         749.066  \n",
       "381            future rate         695.103  \n",
       "128  behavior dog as today         643.964  "
      ]
     },
     "execution_count": 79,
     "metadata": {},
     "output_type": "execute_result"
    }
   ],
   "source": [
    "# Add a weighted score for engagement and sentiment\n",
    "df['weighted_score'] = 0.7 * df['Engagement_Score'] + 0.3 * df['Sentiment_Score']\n",
    "\n",
    "# Re-rank the recommended posts based on weighted score\n",
    "recommended_posts = df.iloc[top_post_indices].sort_values(\n",
    "    by='weighted_score', ascending=False)\n",
    "\n",
    "# Output re-ranked posts\n",
    "print(\"Re-ranked recommended posts (based on engagement and sentiment):\")\n",
    "recommended_posts[['post_id', 'Caption', 'Hashtags', 'weighted_score']]"
   ]
  },
  {
   "cell_type": "code",
   "execution_count": 80,
   "metadata": {},
   "outputs": [
    {
     "name": "stdout",
     "output_type": "stream",
     "text": [
      "Precision@3 for user_id = 1: 1.0\n"
     ]
    }
   ],
   "source": [
    "# Function to calculate Precision@K\n",
    "def precision_at_k(recommended_posts, true_posts, k):\n",
    "    recommended = recommended_posts[:k]\n",
    "    relevant = set(true_posts)\n",
    "    return len(set(recommended) & relevant) / k\n",
    "\n",
    "\n",
    "# Example: User 1's true interactions (posts they liked or commented on)\n",
    "true_posts = df[df['user_id'] == 1]['post_id'].values\n",
    "\n",
    "# Calculate Precision@K for K=3\n",
    "precision_k = precision_at_k(\n",
    "    recommended_posts['post_id'].values, true_posts, 3)\n",
    "print(f\"Precision@3 for user_id = 1: {precision_k}\")"
   ]
  },
  {
   "cell_type": "code",
   "execution_count": 81,
   "metadata": {},
   "outputs": [],
   "source": [
    "import pickle\n",
    "# Save the user profiles\n",
    "with open('content.pkl', 'wb') as f:\n",
    "    pickle.dump(user_profiles, f)\n",
    "# Load the user profiles\n",
    "with open('content.pkl', 'rb') as f:\n",
    "    user_profiles = pickle.load(f)"
   ]
  },
  {
   "cell_type": "code",
   "execution_count": 82,
   "metadata": {},
   "outputs": [
    {
     "data": {
      "text/html": [
       "<div>\n",
       "<style scoped>\n",
       "    .dataframe tbody tr th:only-of-type {\n",
       "        vertical-align: middle;\n",
       "    }\n",
       "\n",
       "    .dataframe tbody tr th {\n",
       "        vertical-align: top;\n",
       "    }\n",
       "\n",
       "    .dataframe thead th {\n",
       "        text-align: right;\n",
       "    }\n",
       "</style>\n",
       "<table border=\"1\" class=\"dataframe\">\n",
       "  <thead>\n",
       "    <tr style=\"text-align: right;\">\n",
       "      <th></th>\n",
       "      <th>user_id</th>\n",
       "      <th>post_id</th>\n",
       "      <th>Username</th>\n",
       "      <th>Caption</th>\n",
       "      <th>Hashtags</th>\n",
       "      <th>Likes</th>\n",
       "      <th>Comments</th>\n",
       "      <th>Comment_Text</th>\n",
       "      <th>Sentiment_Score</th>\n",
       "      <th>Sentiment_Label</th>\n",
       "      <th>Engagement_Score</th>\n",
       "      <th>content</th>\n",
       "      <th>weighted_score</th>\n",
       "      <th>clean_content</th>\n",
       "    </tr>\n",
       "  </thead>\n",
       "  <tbody>\n",
       "    <tr>\n",
       "      <th>0</th>\n",
       "      <td>1</td>\n",
       "      <td>599</td>\n",
       "      <td>michaelsilva</td>\n",
       "      <td>Turn wish sure garden manage cut movement Mrs ...</td>\n",
       "      <td>experience across girl expect fight</td>\n",
       "      <td>252</td>\n",
       "      <td>176</td>\n",
       "      <td>Effort building national cost claim baby assum...</td>\n",
       "      <td>0.30</td>\n",
       "      <td>Neutral</td>\n",
       "      <td>428</td>\n",
       "      <td>Turn wish sure garden manage cut movement Mrs ...</td>\n",
       "      <td>299.690</td>\n",
       "      <td>turn wish sure garden manage cut movement mrs ...</td>\n",
       "    </tr>\n",
       "    <tr>\n",
       "      <th>1</th>\n",
       "      <td>1</td>\n",
       "      <td>565</td>\n",
       "      <td>jchen</td>\n",
       "      <td>Top job who every business hit let with purpose.</td>\n",
       "      <td>walk property</td>\n",
       "      <td>951</td>\n",
       "      <td>103</td>\n",
       "      <td>Moment around hospital require or whole around...</td>\n",
       "      <td>0.86</td>\n",
       "      <td>Positive</td>\n",
       "      <td>1054</td>\n",
       "      <td>Top job who every business hit let with purpos...</td>\n",
       "      <td>738.058</td>\n",
       "      <td>top job every business hit let purpose walk pr...</td>\n",
       "    </tr>\n",
       "    <tr>\n",
       "      <th>2</th>\n",
       "      <td>1</td>\n",
       "      <td>592</td>\n",
       "      <td>thurley</td>\n",
       "      <td>Easy cause than whom training cut manager prod...</td>\n",
       "      <td>cover hit</td>\n",
       "      <td>711</td>\n",
       "      <td>168</td>\n",
       "      <td>Run beautiful true thought beat decision neces...</td>\n",
       "      <td>-0.60</td>\n",
       "      <td>Negative</td>\n",
       "      <td>879</td>\n",
       "      <td>Easy cause than whom training cut manager prod...</td>\n",
       "      <td>615.120</td>\n",
       "      <td>easy cause training cut manager production sys...</td>\n",
       "    </tr>\n",
       "    <tr>\n",
       "      <th>3</th>\n",
       "      <td>1</td>\n",
       "      <td>96</td>\n",
       "      <td>ujoyce</td>\n",
       "      <td>Several foreign none public treatment college ...</td>\n",
       "      <td>itself throughout thought citizen</td>\n",
       "      <td>426</td>\n",
       "      <td>200</td>\n",
       "      <td>Language cell charge second hour west month ag...</td>\n",
       "      <td>-0.12</td>\n",
       "      <td>Neutral</td>\n",
       "      <td>626</td>\n",
       "      <td>Several foreign none public treatment college ...</td>\n",
       "      <td>438.164</td>\n",
       "      <td>several foreign none public treatment college ...</td>\n",
       "    </tr>\n",
       "    <tr>\n",
       "      <th>4</th>\n",
       "      <td>1</td>\n",
       "      <td>858</td>\n",
       "      <td>klinemichelle</td>\n",
       "      <td>Stop particularly reason center leader because...</td>\n",
       "      <td>speak clear necessary</td>\n",
       "      <td>981</td>\n",
       "      <td>71</td>\n",
       "      <td>Letter speak spend suffer Mr player leg.</td>\n",
       "      <td>0.48</td>\n",
       "      <td>Positive</td>\n",
       "      <td>1052</td>\n",
       "      <td>Stop particularly reason center leader because...</td>\n",
       "      <td>736.544</td>\n",
       "      <td>stop particularly reason center leader dream f...</td>\n",
       "    </tr>\n",
       "  </tbody>\n",
       "</table>\n",
       "</div>"
      ],
      "text/plain": [
       "   user_id  post_id       Username  \\\n",
       "0        1      599   michaelsilva   \n",
       "1        1      565          jchen   \n",
       "2        1      592        thurley   \n",
       "3        1       96         ujoyce   \n",
       "4        1      858  klinemichelle   \n",
       "\n",
       "                                             Caption  \\\n",
       "0  Turn wish sure garden manage cut movement Mrs ...   \n",
       "1   Top job who every business hit let with purpose.   \n",
       "2  Easy cause than whom training cut manager prod...   \n",
       "3  Several foreign none public treatment college ...   \n",
       "4  Stop particularly reason center leader because...   \n",
       "\n",
       "                              Hashtags  Likes  Comments  \\\n",
       "0  experience across girl expect fight    252       176   \n",
       "1                        walk property    951       103   \n",
       "2                            cover hit    711       168   \n",
       "3    itself throughout thought citizen    426       200   \n",
       "4                speak clear necessary    981        71   \n",
       "\n",
       "                                        Comment_Text  Sentiment_Score  \\\n",
       "0  Effort building national cost claim baby assum...             0.30   \n",
       "1  Moment around hospital require or whole around...             0.86   \n",
       "2  Run beautiful true thought beat decision neces...            -0.60   \n",
       "3  Language cell charge second hour west month ag...            -0.12   \n",
       "4           Letter speak spend suffer Mr player leg.             0.48   \n",
       "\n",
       "  Sentiment_Label  Engagement_Score  \\\n",
       "0         Neutral               428   \n",
       "1        Positive              1054   \n",
       "2        Negative               879   \n",
       "3         Neutral               626   \n",
       "4        Positive              1052   \n",
       "\n",
       "                                             content  weighted_score  \\\n",
       "0  Turn wish sure garden manage cut movement Mrs ...         299.690   \n",
       "1  Top job who every business hit let with purpos...         738.058   \n",
       "2  Easy cause than whom training cut manager prod...         615.120   \n",
       "3  Several foreign none public treatment college ...         438.164   \n",
       "4  Stop particularly reason center leader because...         736.544   \n",
       "\n",
       "                                       clean_content  \n",
       "0  turn wish sure garden manage cut movement mrs ...  \n",
       "1  top job every business hit let purpose walk pr...  \n",
       "2  easy cause training cut manager production sys...  \n",
       "3  several foreign none public treatment college ...  \n",
       "4  stop particularly reason center leader dream f...  "
      ]
     },
     "execution_count": 82,
     "metadata": {},
     "output_type": "execute_result"
    }
   ],
   "source": [
    "df.head()"
   ]
  }
 ],
 "metadata": {
  "language_info": {
   "name": "python"
  }
 },
 "nbformat": 4,
 "nbformat_minor": 2
}
