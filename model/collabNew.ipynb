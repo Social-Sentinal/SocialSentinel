{
 "cells": [
  {
   "cell_type": "code",
   "execution_count": 21,
   "metadata": {},
   "outputs": [],
   "source": [
    "import pandas as pd\n",
    "from sklearn.model_selection import train_test_split\n",
    "from sklearn.feature_extraction.text import TfidfVectorizer\n",
    "from sklearn.ensemble import RandomForestClassifier\n",
    "from sklearn.metrics import accuracy_score, classification_report"
   ]
  },
  {
   "cell_type": "code",
   "execution_count": 22,
   "metadata": {},
   "outputs": [],
   "source": [
    "# Load the dataset\n",
    "df = pd.read_csv('collaborative.csv')"
   ]
  },
  {
   "cell_type": "code",
   "execution_count": 23,
   "metadata": {},
   "outputs": [
    {
     "data": {
      "text/plain": [
       "Index(['post_id', 'user_id', 'user_name_x', 'caption', 'image_url',\n",
       "       'timestamp', 'interaction', 'hashtags', 'location_x', 'post_type',\n",
       "       'user_name_y', 'follower_count', 'following_count', 'location_y',\n",
       "       'age_group', 'gender', 'activity_level'],\n",
       "      dtype='object')"
      ]
     },
     "execution_count": 23,
     "metadata": {},
     "output_type": "execute_result"
    }
   ],
   "source": [
    "df.columns"
   ]
  },
  {
   "cell_type": "code",
   "execution_count": 24,
   "metadata": {},
   "outputs": [],
   "source": [
    "df['text'] = df['caption'] + ' ' + df['hashtags']"
   ]
  },
  {
   "cell_type": "code",
   "execution_count": 25,
   "metadata": {},
   "outputs": [],
   "source": [
    "# Define the features (captions + hashtags) and target (interaction or post_type)\n",
    "X = df['text']\n",
    "y_caption = df['caption']  # We'll try to predict captions\n",
    "y_hashtags = df['hashtags']  # We'll try to predict hashtags"
   ]
  },
  {
   "cell_type": "code",
   "execution_count": 26,
   "metadata": {},
   "outputs": [],
   "source": [
    "# Split the data into training and test sets\n",
    "X_train_caption, X_test_caption, y_train_caption, y_test_caption = train_test_split(\n",
    "    X, y_caption, test_size=0.2, random_state=42)\n",
    "X_train_hashtag, X_test_hashtag, y_train_hashtag, y_test_hashtag = train_test_split(\n",
    "    X, y_hashtags, test_size=0.2, random_state=42)"
   ]
  },
  {
   "cell_type": "code",
   "execution_count": 27,
   "metadata": {},
   "outputs": [],
   "source": [
    "tfidf_vectorizer = TfidfVectorizer(max_features=5000)"
   ]
  },
  {
   "cell_type": "code",
   "execution_count": 28,
   "metadata": {},
   "outputs": [],
   "source": [
    "# Fit the TF-IDF vectorizer on the training data for captions\n",
    "X_train_caption_tfidf = tfidf_vectorizer.fit_transform(X_train_caption)\n",
    "X_test_caption_tfidf = tfidf_vectorizer.transform(X_test_caption)"
   ]
  },
  {
   "cell_type": "code",
   "execution_count": 29,
   "metadata": {},
   "outputs": [],
   "source": [
    "# Fit the TF-IDF vectorizer on the training data for hashtags\n",
    "X_train_hashtag_tfidf = tfidf_vectorizer.fit_transform(X_train_hashtag)\n",
    "X_test_hashtag_tfidf = tfidf_vectorizer.transform(X_test_hashtag)"
   ]
  },
  {
   "cell_type": "code",
   "execution_count": 30,
   "metadata": {},
   "outputs": [
    {
     "data": {
      "text/html": [
       "<style>#sk-container-id-3 {color: black;}#sk-container-id-3 pre{padding: 0;}#sk-container-id-3 div.sk-toggleable {background-color: white;}#sk-container-id-3 label.sk-toggleable__label {cursor: pointer;display: block;width: 100%;margin-bottom: 0;padding: 0.3em;box-sizing: border-box;text-align: center;}#sk-container-id-3 label.sk-toggleable__label-arrow:before {content: \"▸\";float: left;margin-right: 0.25em;color: #696969;}#sk-container-id-3 label.sk-toggleable__label-arrow:hover:before {color: black;}#sk-container-id-3 div.sk-estimator:hover label.sk-toggleable__label-arrow:before {color: black;}#sk-container-id-3 div.sk-toggleable__content {max-height: 0;max-width: 0;overflow: hidden;text-align: left;background-color: #f0f8ff;}#sk-container-id-3 div.sk-toggleable__content pre {margin: 0.2em;color: black;border-radius: 0.25em;background-color: #f0f8ff;}#sk-container-id-3 input.sk-toggleable__control:checked~div.sk-toggleable__content {max-height: 200px;max-width: 100%;overflow: auto;}#sk-container-id-3 input.sk-toggleable__control:checked~label.sk-toggleable__label-arrow:before {content: \"▾\";}#sk-container-id-3 div.sk-estimator input.sk-toggleable__control:checked~label.sk-toggleable__label {background-color: #d4ebff;}#sk-container-id-3 div.sk-label input.sk-toggleable__control:checked~label.sk-toggleable__label {background-color: #d4ebff;}#sk-container-id-3 input.sk-hidden--visually {border: 0;clip: rect(1px 1px 1px 1px);clip: rect(1px, 1px, 1px, 1px);height: 1px;margin: -1px;overflow: hidden;padding: 0;position: absolute;width: 1px;}#sk-container-id-3 div.sk-estimator {font-family: monospace;background-color: #f0f8ff;border: 1px dotted black;border-radius: 0.25em;box-sizing: border-box;margin-bottom: 0.5em;}#sk-container-id-3 div.sk-estimator:hover {background-color: #d4ebff;}#sk-container-id-3 div.sk-parallel-item::after {content: \"\";width: 100%;border-bottom: 1px solid gray;flex-grow: 1;}#sk-container-id-3 div.sk-label:hover label.sk-toggleable__label {background-color: #d4ebff;}#sk-container-id-3 div.sk-serial::before {content: \"\";position: absolute;border-left: 1px solid gray;box-sizing: border-box;top: 0;bottom: 0;left: 50%;z-index: 0;}#sk-container-id-3 div.sk-serial {display: flex;flex-direction: column;align-items: center;background-color: white;padding-right: 0.2em;padding-left: 0.2em;position: relative;}#sk-container-id-3 div.sk-item {position: relative;z-index: 1;}#sk-container-id-3 div.sk-parallel {display: flex;align-items: stretch;justify-content: center;background-color: white;position: relative;}#sk-container-id-3 div.sk-item::before, #sk-container-id-3 div.sk-parallel-item::before {content: \"\";position: absolute;border-left: 1px solid gray;box-sizing: border-box;top: 0;bottom: 0;left: 50%;z-index: -1;}#sk-container-id-3 div.sk-parallel-item {display: flex;flex-direction: column;z-index: 1;position: relative;background-color: white;}#sk-container-id-3 div.sk-parallel-item:first-child::after {align-self: flex-end;width: 50%;}#sk-container-id-3 div.sk-parallel-item:last-child::after {align-self: flex-start;width: 50%;}#sk-container-id-3 div.sk-parallel-item:only-child::after {width: 0;}#sk-container-id-3 div.sk-dashed-wrapped {border: 1px dashed gray;margin: 0 0.4em 0.5em 0.4em;box-sizing: border-box;padding-bottom: 0.4em;background-color: white;}#sk-container-id-3 div.sk-label label {font-family: monospace;font-weight: bold;display: inline-block;line-height: 1.2em;}#sk-container-id-3 div.sk-label-container {text-align: center;}#sk-container-id-3 div.sk-container {/* jupyter's `normalize.less` sets `[hidden] { display: none; }` but bootstrap.min.css set `[hidden] { display: none !important; }` so we also need the `!important` here to be able to override the default hidden behavior on the sphinx rendered scikit-learn.org. See: https://github.com/scikit-learn/scikit-learn/issues/21755 */display: inline-block !important;position: relative;}#sk-container-id-3 div.sk-text-repr-fallback {display: none;}</style><div id=\"sk-container-id-3\" class=\"sk-top-container\"><div class=\"sk-text-repr-fallback\"><pre>RandomForestClassifier(random_state=42)</pre><b>In a Jupyter environment, please rerun this cell to show the HTML representation or trust the notebook. <br />On GitHub, the HTML representation is unable to render, please try loading this page with nbviewer.org.</b></div><div class=\"sk-container\" hidden><div class=\"sk-item\"><div class=\"sk-estimator sk-toggleable\"><input class=\"sk-toggleable__control sk-hidden--visually\" id=\"sk-estimator-id-3\" type=\"checkbox\" checked><label for=\"sk-estimator-id-3\" class=\"sk-toggleable__label sk-toggleable__label-arrow\">RandomForestClassifier</label><div class=\"sk-toggleable__content\"><pre>RandomForestClassifier(random_state=42)</pre></div></div></div></div></div>"
      ],
      "text/plain": [
       "RandomForestClassifier(random_state=42)"
      ]
     },
     "execution_count": 30,
     "metadata": {},
     "output_type": "execute_result"
    }
   ],
   "source": [
    "# Model Training for Caption Prediction using RandomForest\n",
    "caption_model = RandomForestClassifier(n_estimators=100, random_state=42)\n",
    "caption_model.fit(X_train_caption_tfidf, y_train_caption)"
   ]
  },
  {
   "cell_type": "code",
   "execution_count": 31,
   "metadata": {},
   "outputs": [
    {
     "data": {
      "text/html": [
       "<style>#sk-container-id-4 {color: black;}#sk-container-id-4 pre{padding: 0;}#sk-container-id-4 div.sk-toggleable {background-color: white;}#sk-container-id-4 label.sk-toggleable__label {cursor: pointer;display: block;width: 100%;margin-bottom: 0;padding: 0.3em;box-sizing: border-box;text-align: center;}#sk-container-id-4 label.sk-toggleable__label-arrow:before {content: \"▸\";float: left;margin-right: 0.25em;color: #696969;}#sk-container-id-4 label.sk-toggleable__label-arrow:hover:before {color: black;}#sk-container-id-4 div.sk-estimator:hover label.sk-toggleable__label-arrow:before {color: black;}#sk-container-id-4 div.sk-toggleable__content {max-height: 0;max-width: 0;overflow: hidden;text-align: left;background-color: #f0f8ff;}#sk-container-id-4 div.sk-toggleable__content pre {margin: 0.2em;color: black;border-radius: 0.25em;background-color: #f0f8ff;}#sk-container-id-4 input.sk-toggleable__control:checked~div.sk-toggleable__content {max-height: 200px;max-width: 100%;overflow: auto;}#sk-container-id-4 input.sk-toggleable__control:checked~label.sk-toggleable__label-arrow:before {content: \"▾\";}#sk-container-id-4 div.sk-estimator input.sk-toggleable__control:checked~label.sk-toggleable__label {background-color: #d4ebff;}#sk-container-id-4 div.sk-label input.sk-toggleable__control:checked~label.sk-toggleable__label {background-color: #d4ebff;}#sk-container-id-4 input.sk-hidden--visually {border: 0;clip: rect(1px 1px 1px 1px);clip: rect(1px, 1px, 1px, 1px);height: 1px;margin: -1px;overflow: hidden;padding: 0;position: absolute;width: 1px;}#sk-container-id-4 div.sk-estimator {font-family: monospace;background-color: #f0f8ff;border: 1px dotted black;border-radius: 0.25em;box-sizing: border-box;margin-bottom: 0.5em;}#sk-container-id-4 div.sk-estimator:hover {background-color: #d4ebff;}#sk-container-id-4 div.sk-parallel-item::after {content: \"\";width: 100%;border-bottom: 1px solid gray;flex-grow: 1;}#sk-container-id-4 div.sk-label:hover label.sk-toggleable__label {background-color: #d4ebff;}#sk-container-id-4 div.sk-serial::before {content: \"\";position: absolute;border-left: 1px solid gray;box-sizing: border-box;top: 0;bottom: 0;left: 50%;z-index: 0;}#sk-container-id-4 div.sk-serial {display: flex;flex-direction: column;align-items: center;background-color: white;padding-right: 0.2em;padding-left: 0.2em;position: relative;}#sk-container-id-4 div.sk-item {position: relative;z-index: 1;}#sk-container-id-4 div.sk-parallel {display: flex;align-items: stretch;justify-content: center;background-color: white;position: relative;}#sk-container-id-4 div.sk-item::before, #sk-container-id-4 div.sk-parallel-item::before {content: \"\";position: absolute;border-left: 1px solid gray;box-sizing: border-box;top: 0;bottom: 0;left: 50%;z-index: -1;}#sk-container-id-4 div.sk-parallel-item {display: flex;flex-direction: column;z-index: 1;position: relative;background-color: white;}#sk-container-id-4 div.sk-parallel-item:first-child::after {align-self: flex-end;width: 50%;}#sk-container-id-4 div.sk-parallel-item:last-child::after {align-self: flex-start;width: 50%;}#sk-container-id-4 div.sk-parallel-item:only-child::after {width: 0;}#sk-container-id-4 div.sk-dashed-wrapped {border: 1px dashed gray;margin: 0 0.4em 0.5em 0.4em;box-sizing: border-box;padding-bottom: 0.4em;background-color: white;}#sk-container-id-4 div.sk-label label {font-family: monospace;font-weight: bold;display: inline-block;line-height: 1.2em;}#sk-container-id-4 div.sk-label-container {text-align: center;}#sk-container-id-4 div.sk-container {/* jupyter's `normalize.less` sets `[hidden] { display: none; }` but bootstrap.min.css set `[hidden] { display: none !important; }` so we also need the `!important` here to be able to override the default hidden behavior on the sphinx rendered scikit-learn.org. See: https://github.com/scikit-learn/scikit-learn/issues/21755 */display: inline-block !important;position: relative;}#sk-container-id-4 div.sk-text-repr-fallback {display: none;}</style><div id=\"sk-container-id-4\" class=\"sk-top-container\"><div class=\"sk-text-repr-fallback\"><pre>RandomForestClassifier(random_state=42)</pre><b>In a Jupyter environment, please rerun this cell to show the HTML representation or trust the notebook. <br />On GitHub, the HTML representation is unable to render, please try loading this page with nbviewer.org.</b></div><div class=\"sk-container\" hidden><div class=\"sk-item\"><div class=\"sk-estimator sk-toggleable\"><input class=\"sk-toggleable__control sk-hidden--visually\" id=\"sk-estimator-id-4\" type=\"checkbox\" checked><label for=\"sk-estimator-id-4\" class=\"sk-toggleable__label sk-toggleable__label-arrow\">RandomForestClassifier</label><div class=\"sk-toggleable__content\"><pre>RandomForestClassifier(random_state=42)</pre></div></div></div></div></div>"
      ],
      "text/plain": [
       "RandomForestClassifier(random_state=42)"
      ]
     },
     "execution_count": 31,
     "metadata": {},
     "output_type": "execute_result"
    }
   ],
   "source": [
    "# Model Training for Hashtag Prediction using RandomForest\n",
    "hashtag_model = RandomForestClassifier(n_estimators=100, random_state=42)\n",
    "hashtag_model.fit(X_train_hashtag_tfidf, y_train_hashtag)"
   ]
  },
  {
   "cell_type": "code",
   "execution_count": 32,
   "metadata": {},
   "outputs": [],
   "source": [
    "# Predict captions and hashtags\n",
    "y_pred_caption = caption_model.predict(X_test_caption_tfidf)\n",
    "y_pred_hashtag = hashtag_model.predict(X_test_hashtag_tfidf)"
   ]
  },
  {
   "cell_type": "code",
   "execution_count": 33,
   "metadata": {},
   "outputs": [
    {
     "name": "stdout",
     "output_type": "stream",
     "text": [
      "Caption Prediction Report:\n",
      "                                            precision    recall  f1-score   support\n",
      "\n",
      "                      A sad day for us all       1.00      1.00      1.00         6\n",
      "                                 Beach day       1.00      1.00      1.00         2\n",
      "                        Chasing waterfalls       1.00      1.00      1.00         4\n",
      "                               City lights       1.00      1.00      1.00         1\n",
      "                               Coffee time       1.00      1.00      1.00         2\n",
      "                       Dinner with friends       1.00      1.00      1.00         3\n",
      "                       Enjoying the sunset       1.00      1.00      1.00         2\n",
      "                   Exploring the mountains       1.00      1.00      1.00         3\n",
      "                               Family time       1.00      1.00      1.00         1\n",
      "                           Feeling blessed       1.00      1.00      1.00         6\n",
      "                         Healthy breakfast       1.00      1.00      1.00         3\n",
      "                            Healthy living       1.00      1.00      1.00         4\n",
      "                         Hiking adventures       1.00      1.00      1.00         3\n",
      "                   I am feeling very happy       1.00      1.00      1.00         7\n",
      "                     I am feeling very sad       1.00      1.00      1.00         3\n",
      "                           It makes me sad       1.00      1.00      1.00         6\n",
      "                             Morning vibes       1.00      1.00      1.00         6\n",
      "                                 Road trip       1.00      1.00      1.00         5\n",
      "     Sad to say, she never lived to see it       1.00      1.00      1.00         3\n",
      "                              Sunset views       1.00      1.00      1.00         7\n",
      "  The sad fact is that he's lost his touch       1.00      1.00      1.00         2\n",
      "They looked at her with sad, anxious faces       1.00      1.00      1.00         3\n",
      "                       Throwback to summer       1.00      1.00      1.00         4\n",
      "                              Travel goals       1.00      1.00      1.00         4\n",
      "                           Weekend getaway       1.00      1.00      1.00         6\n",
      "                        Workout motivation       1.00      1.00      1.00         4\n",
      "\n",
      "                                  accuracy                           1.00       100\n",
      "                                 macro avg       1.00      1.00      1.00       100\n",
      "                              weighted avg       1.00      1.00      1.00       100\n",
      "\n"
     ]
    }
   ],
   "source": [
    "# Evaluate the caption prediction model\n",
    "print(\"Caption Prediction Report:\")\n",
    "print(classification_report(y_test_caption, y_pred_caption))"
   ]
  },
  {
   "cell_type": "code",
   "execution_count": 34,
   "metadata": {},
   "outputs": [
    {
     "name": "stdout",
     "output_type": "stream",
     "text": [
      "Hashtag Prediction Report:\n",
      "                                   precision    recall  f1-score   support\n",
      "\n",
      "             #anxious #sad #faces       1.00      1.00      1.00         3\n",
      "                #beach #sun #sand       1.00      1.00      1.00         2\n",
      "     #blessed #grateful #thankful       1.00      1.00      1.00         6\n",
      "        #breakfast #healthy #food       1.00      1.00      1.00         3\n",
      "          #city #nightlife #urban       1.00      1.00      1.00         1\n",
      "       #coffee #morning #caffeine       1.00      1.00      1.00         2\n",
      "      #depression #stress #trauma       1.00      1.00      1.00         6\n",
      "      #dinner #friends #goodtimes       1.00      1.00      1.00         3\n",
      "       #family #love #qualitytime       1.00      1.00      1.00         1\n",
      "                #happy #joy #feel       1.00      1.00      1.00         7\n",
      "#healthyliving #fitness #wellness       1.00      1.00      1.00         4\n",
      "     #hiking #outdoors #adventure       1.00      1.00      1.00         3\n",
      "                      #lived #sad       1.00      1.00      1.00         3\n",
      "                #lost #touch #sad       1.00      1.00      1.00         2\n",
      "    #morning #freshstart #sunrise       1.00      1.00      1.00         6\n",
      "       #mountains #hiking #nature       1.00      1.00      1.00         3\n",
      "     #roadtrip #adventure #travel       1.00      1.00      1.00         5\n",
      "                   #sad #day #all       1.00      1.00      1.00         6\n",
      "                  #sad #low #feel       1.00      1.00      1.00         3\n",
      "     #summer #memories #throwback       1.00      1.00      1.00         4\n",
      "         #sunset #evening #nature       1.00      1.00      1.00         2\n",
      "              #sunset #views #sky       1.00      1.00      1.00         7\n",
      "      #travel #adventure #explore       1.00      1.00      1.00         4\n",
      "      #waterfalls #nature #hiking       1.00      1.00      1.00         4\n",
      "        #weekend #travel #getaway       1.00      1.00      1.00         6\n",
      "    #workout #fitness #motivation       1.00      1.00      1.00         4\n",
      "\n",
      "                         accuracy                           1.00       100\n",
      "                        macro avg       1.00      1.00      1.00       100\n",
      "                     weighted avg       1.00      1.00      1.00       100\n",
      "\n"
     ]
    }
   ],
   "source": [
    "# Evaluate the hashtag prediction model\n",
    "print(\"Hashtag Prediction Report:\")\n",
    "print(classification_report(y_test_hashtag, y_pred_hashtag))"
   ]
  },
  {
   "cell_type": "code",
   "execution_count": 35,
   "metadata": {},
   "outputs": [],
   "source": [
    "# Overall accuracy scores\n",
    "caption_accuracy = accuracy_score(y_test_caption, y_pred_caption)\n",
    "hashtag_accuracy = accuracy_score(y_test_hashtag, y_pred_hashtag)"
   ]
  },
  {
   "cell_type": "code",
   "execution_count": 36,
   "metadata": {},
   "outputs": [
    {
     "name": "stdout",
     "output_type": "stream",
     "text": [
      "Caption Prediction Accuracy: 100.00%\n",
      "Hashtag Prediction Accuracy: 100.00%\n"
     ]
    }
   ],
   "source": [
    "print(f\"Caption Prediction Accuracy: {caption_accuracy * 100:.2f}%\")\n",
    "print(f\"Hashtag Prediction Accuracy: {hashtag_accuracy * 100:.2f}%\")"
   ]
  },
  {
   "cell_type": "code",
   "execution_count": 47,
   "metadata": {},
   "outputs": [
    {
     "name": "stdout",
     "output_type": "stream",
     "text": [
      "['I am feeling very happy']\n",
      "['#happy #joy #feel']\n"
     ]
    }
   ],
   "source": [
    "import joblib\n",
    "joblib.dump(caption_model, 'caption.pkl')\n",
    "joblib.dump(hashtag_model, 'hashtag.pkl')\n",
    "joblib.dump(tfidf_vectorizer, 'tfidf_vectorizer.pkl')\n",
    "\n",
    "# test the user input model\n",
    "caption_model = joblib.load('caption.pkl')\n",
    "hashtag_model = joblib.load('hashtag.pkl')\n",
    "tfidf_vectorizer = joblib.load('tfidf_vectorizer.pkl')\n",
    "\n",
    "user_input = \"Hello I am Happy # #caption\"\n",
    "user_input_tfidf = tfidf_vectorizer.transform([user_input])\n",
    "user_input_tfidf = user_input_tfidf.toarray()\n",
    "\n",
    "predicted_caption = caption_model.predict(user_input_tfidf)\n",
    "predicted_hashtag = hashtag_model.predict(user_input_tfidf)\n",
    "\n",
    "# give multiple output\n",
    "print(predicted_caption)\n",
    "print(predicted_hashtag)"
   ]
  }
 ],
 "metadata": {
  "language_info": {
   "name": "python"
  }
 },
 "nbformat": 4,
 "nbformat_minor": 2
}
