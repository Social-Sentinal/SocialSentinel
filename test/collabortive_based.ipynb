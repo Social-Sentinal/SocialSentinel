{
 "cells": [
  {
   "cell_type": "code",
   "execution_count": null,
   "metadata": {},
   "outputs": [],
   "source": [
    "import pandas as pd\n",
    "from faker import Faker\n",
    "import random\n",
    "import numpy as np"
   ]
  },
  {
   "cell_type": "code",
   "execution_count": null,
   "metadata": {},
   "outputs": [],
   "source": [
    "\n",
    "# Initialize Faker\n",
    "fake = Faker()\n",
    "\n",
    "# Function to create synthetic dataset\n",
    "\n",
    "\n",
    "def create_synthetic_data(num_samples=1000):\n",
    "    data = {\n",
    "        'user_id': [],\n",
    "        'post_id': [],\n",
    "        'Username': [],\n",
    "        'Caption': [],\n",
    "        'Hashtags': [],\n",
    "        'Likes': [],\n",
    "        'Comments': []\n",
    "    }\n",
    "\n",
    "    for _ in range(num_samples):\n",
    "        # Generate user data\n",
    "        user_id = random.randint(0, 1000)\n",
    "        post_id = random.randint(0, 1000)\n",
    "        username = fake.user_name()\n",
    "        caption = fake.sentence(nb_words=random.randint(5, 15))\n",
    "        hashtags = ' '.join([fake.word() for _ in range(random.randint(1, 5))])\n",
    "        likes = random.randint(0, 1000)\n",
    "        comments = random.randint(0, 200)\n",
    "\n",
    "        # Append data\n",
    "        data['user_id'].append(user_id)\n",
    "        data['post_id'].append(user_id)\n",
    "        data['Username'].append(username)\n",
    "        data['Caption'].append(caption)\n",
    "        data['Hashtags'].append(hashtags)\n",
    "        data['Likes'].append(likes)\n",
    "        data['Comments'].append(comments)\n",
    "\n",
    "    return pd.DataFrame(data)\n",
    "\n",
    "\n",
    "# Create synthetic dataset\n",
    "synthetic_data = create_synthetic_data(num_samples=1000)\n",
    "\n",
    "# Save to CSV\n",
    "synthetic_data.to_csv('sentiments.csv', index=False)\n",
    "print(synthetic_data.head())"
   ]
  }
 ],
 "metadata": {
  "language_info": {
   "name": "python"
  }
 },
 "nbformat": 4,
 "nbformat_minor": 2
}
