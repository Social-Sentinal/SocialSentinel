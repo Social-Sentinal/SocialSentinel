{
 "cells": [
  {
   "cell_type": "code",
   "execution_count": 4,
   "metadata": {},
   "outputs": [],
   "source": [
    "# from data import info_url,posts_url,reels_url,hashtags_url\n",
    "import pandas as pd\n",
    "import requests"
   ]
  },
  {
   "cell_type": "code",
   "execution_count": null,
   "metadata": {},
   "outputs": [],
   "source": [
    "# collected data from different API calls\n",
    "info_data = requests.get(info, headers=headers, params=querystring).json()\n",
    "posts_data = requests.get(post, headers=headers, params=querystring).json()\n",
    "reels_data = requests.get(reels, headers=headers, params=querystring).json()\n",
    "hashtags_data = requests.get(\n",
    "    hastag, headers=headers, params=querystring).json()\n",
    "\n",
    "# Converting the collected data into DataFrames\n",
    "info_df = pd.DataFrame(info_data['data'])\n",
    "posts_df = pd.DataFrame(posts_data['data'])\n",
    "reels_df = pd.DataFrame(reels_data['data'])\n",
    "hashtags_df = pd.DataFrame(hashtags_data['data'])\n",
    "\n",
    "# Save the datasets if needed\n",
    "info_df.to_csv(\"info_data.csv\", index=False)\n",
    "posts_df.to_csv(\"posts_data.csv\", index=False)\n",
    "reels_df.to_csv(\"reels_data.csv\", index=False)\n",
    "hashtags_df.to_csv(\"hashtags_data.csv\", index=False)"
   ]
  },
  {
   "cell_type": "code",
   "execution_count": null,
   "metadata": {},
   "outputs": [],
   "source": [
    "# Remove duplicates\n",
    "posts_df.drop_duplicates(inplace=True)\n",
    "reels_df.drop_duplicates(inplace=True)\n",
    "hashtags_df.drop_duplicates(inplace=True)"
   ]
  },
  {
   "cell_type": "code",
   "execution_count": null,
   "metadata": {},
   "outputs": [],
   "source": [
    "# Fill missing values or remove rows with missing data\n",
    "posts_df.fillna('', inplace=True)\n",
    "reels_df.fillna('', inplace=True)\n",
    "hashtags_df.fillna('', inplace=True)"
   ]
  },
  {
   "cell_type": "code",
   "execution_count": null,
   "metadata": {},
   "outputs": [],
   "source": [
    "import re\n",
    "\n",
    "\n",
    "def clean_text(text):\n",
    "    # Removing URLs and special characters\n",
    "    text = re.sub(r'http\\S+', '', text)\n",
    "    text = re.sub(r'[^A-Za-z0-9\\s]', '', text)\n",
    "    text = text.lower()\n",
    "    return text\n",
    "\n",
    "\n",
    "posts_df['caption'] = posts_df['caption'].apply(clean_text)\n",
    "reels_df['caption'] = reels_df['caption'].apply(clean_text)\n",
    "hashtags_df['hashtags'] = hashtags_df['hashtags'].apply(clean_text)"
   ]
  },
  {
   "cell_type": "code",
   "execution_count": null,
   "metadata": {},
   "outputs": [],
   "source": [
    "# Merging all datasets into a single DataFrame\n",
    "final_data = pd.merge(posts_df[['caption', 'url']], reels_df[[\n",
    "                      'caption', 'url']], on='url', how='outer')\n",
    "final_data = pd.merge(\n",
    "    final_data, hashtags_df[['hashtags', 'url']], on='url', how='outer')\n",
    "\n",
    "# Combine captions and hashtags for a complete content-based recommendation\n",
    "final_data['content'] = final_data['caption'] + \" \" + final_data['hashtags']\n",
    "\n",
    "# Drop any remaining duplicates or nulls\n",
    "final_data.drop_duplicates(subset='url', inplace=True)\n",
    "final_data.dropna(subset=['content'], inplace=True)"
   ]
  },
  {
   "cell_type": "code",
   "execution_count": null,
   "metadata": {},
   "outputs": [],
   "source": [
    "# optional because hamne pahle hi nikala hai\n",
    "from vaderSentiment.vaderSentiment import SentimentIntensityAnalyzer\n",
    "\n",
    "analyzer = SentimentIntensityAnalyzer()\n",
    "\n",
    "\n",
    "def get_sentiment(text):\n",
    "    score = analyzer.polarity_scores(text)\n",
    "    return score['compound']\n",
    "\n",
    "\n",
    "final_data['sentiment'] = final_data['content'].apply(get_sentiment)"
   ]
  },
  {
   "cell_type": "code",
   "execution_count": null,
   "metadata": {},
   "outputs": [],
   "source": [
    "from sklearn.feature_extraction.text import TfidfVectorizer\n",
    "\n",
    "# Vectorizing the text content\n",
    "tfidf = TfidfVectorizer(stop_words='english')\n",
    "tfidf_matrix = tfidf.fit_transform(final_data['content'])"
   ]
  },
  {
   "cell_type": "code",
   "execution_count": null,
   "metadata": {},
   "outputs": [],
   "source": [
    "from sklearn.metrics.pairwise import cosine_similarity\n",
    "\n",
    "# Compute the cosine similarity matrix\n",
    "cosine_sim = cosine_similarity(tfidf_matrix, tfidf_matrix)"
   ]
  },
  {
   "cell_type": "code",
   "execution_count": null,
   "metadata": {},
   "outputs": [],
   "source": [
    "# Create a function to recommend based on content\n",
    "def get_recommendations(index, cosine_sim=cosine_sim):\n",
    "    # Get the pairwise similarity scores of all content\n",
    "    sim_scores = list(enumerate(cosine_sim[index]))\n",
    "\n",
    "    # Sort content based on similarity score\n",
    "    sim_scores = sorted(sim_scores, key=lambda x: x[1], reverse=True)\n",
    "\n",
    "    # Get the indices of the top 10 most similar content\n",
    "    sim_scores = sim_scores[1:11]\n",
    "\n",
    "    # Return the URLs of the most similar content\n",
    "    content_indices = [i[0] for i in sim_scores]\n",
    "    return final_data['url'].iloc[content_indices]"
   ]
  },
  {
   "cell_type": "code",
   "execution_count": null,
   "metadata": {},
   "outputs": [],
   "source": [
    "# Test the recommendation system for the first post\n",
    "print(get_recommendations(0))"
   ]
  },
  {
   "cell_type": "code",
   "execution_count": null,
   "metadata": {},
   "outputs": [],
   "source": [
    "import pickle\n",
    "\n",
    "# Save the TF-IDF vectorizer\n",
    "with open('tfidf_vectorizer.pkl', 'wb') as f:\n",
    "    pickle.dump(tfidf, f)\n",
    "\n",
    "# Save the cosine similarity matrix\n",
    "with open('cosine_similarity.pkl', 'wb') as f:\n",
    "    pickle.dump(cosine_sim, f)"
   ]
  }
 ],
 "metadata": {
  "language_info": {
   "name": "python"
  }
 },
 "nbformat": 4,
 "nbformat_minor": 2
}
