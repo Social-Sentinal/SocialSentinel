{
 "cells": [
  {
   "cell_type": "code",
   "execution_count": 1,
   "metadata": {},
   "outputs": [],
   "source": [
    "import pandas as pd\n",
    "import numpy as np"
   ]
  },
  {
   "cell_type": "code",
   "execution_count": 2,
   "metadata": {},
   "outputs": [],
   "source": [
    "d1c = pd.read_csv(\"d1/comments.csv\")\n",
    "d1f = pd.read_csv(\"d1/follows.csv\")\n",
    "d1pt = pd.read_csv(\"d1/photo_tags.csv\")\n",
    "d1p = pd.read_csv(\"d1/photos.csv\")\n",
    "d1t = pd.read_csv(\"d1/tags.csv\")\n",
    "d1u = pd.read_csv(\"d1/users.csv\")"
   ]
  },
  {
   "cell_type": "code",
   "execution_count": 3,
   "metadata": {},
   "outputs": [],
   "source": [
    "d2 = pd.read_csv(\"d2/Instagram_Reels_Data_Cleaned.csv\").\n",
    "d3 = pd.read_csv(\"d3/insta_sentiment_data.csv\")\n",
    "d4 = pd.read_csv(\"d4/instagram_reach.csv\")"
   ]
  },
  {
   "cell_type": "code",
   "execution_count": 14,
   "metadata": {},
   "outputs": [],
   "source": [
    "photo_tags = pd.merge(\n",
    "    d1pt, d1t, left_on='tag_id', right_on='id', how='left')"
   ]
  },
  {
   "cell_type": "code",
   "execution_count": 11,
   "metadata": {},
   "outputs": [
    {
     "data": {
      "text/html": [
       "<div>\n",
       "<style scoped>\n",
       "    .dataframe tbody tr th:only-of-type {\n",
       "        vertical-align: middle;\n",
       "    }\n",
       "\n",
       "    .dataframe tbody tr th {\n",
       "        vertical-align: top;\n",
       "    }\n",
       "\n",
       "    .dataframe thead th {\n",
       "        text-align: right;\n",
       "    }\n",
       "</style>\n",
       "<table border=\"1\" class=\"dataframe\">\n",
       "  <thead>\n",
       "    <tr style=\"text-align: right;\">\n",
       "      <th></th>\n",
       "      <th>photo_id</th>\n",
       "      <th>tag_id</th>\n",
       "      <th>id</th>\n",
       "      <th>tag_name</th>\n",
       "      <th>created_at</th>\n",
       "    </tr>\n",
       "  </thead>\n",
       "  <tbody>\n",
       "    <tr>\n",
       "      <th>0</th>\n",
       "      <td>14</td>\n",
       "      <td>1</td>\n",
       "      <td>1</td>\n",
       "      <td>sunset</td>\n",
       "      <td>2023-05-13 15:14:58</td>\n",
       "    </tr>\n",
       "    <tr>\n",
       "      <th>1</th>\n",
       "      <td>21</td>\n",
       "      <td>1</td>\n",
       "      <td>1</td>\n",
       "      <td>sunset</td>\n",
       "      <td>2023-05-13 15:14:58</td>\n",
       "    </tr>\n",
       "    <tr>\n",
       "      <th>2</th>\n",
       "      <td>45</td>\n",
       "      <td>1</td>\n",
       "      <td>1</td>\n",
       "      <td>sunset</td>\n",
       "      <td>2023-05-13 15:14:58</td>\n",
       "    </tr>\n",
       "    <tr>\n",
       "      <th>3</th>\n",
       "      <td>75</td>\n",
       "      <td>1</td>\n",
       "      <td>1</td>\n",
       "      <td>sunset</td>\n",
       "      <td>2023-05-13 15:14:58</td>\n",
       "    </tr>\n",
       "  </tbody>\n",
       "</table>\n",
       "</div>"
      ],
      "text/plain": [
       "   photo_id  tag_id  id tag_name           created_at\n",
       "0        14       1   1   sunset  2023-05-13 15:14:58\n",
       "1        21       1   1   sunset  2023-05-13 15:14:58\n",
       "2        45       1   1   sunset  2023-05-13 15:14:58\n",
       "3        75       1   1   sunset  2023-05-13 15:14:58"
      ]
     },
     "execution_count": 11,
     "metadata": {},
     "output_type": "execute_result"
    }
   ],
   "source": [
    "photo_tags.head(4)"
   ]
  },
  {
   "cell_type": "code",
   "execution_count": 18,
   "metadata": {},
   "outputs": [
    {
     "data": {
      "text/html": [
       "<div>\n",
       "<style scoped>\n",
       "    .dataframe tbody tr th:only-of-type {\n",
       "        vertical-align: middle;\n",
       "    }\n",
       "\n",
       "    .dataframe tbody tr th {\n",
       "        vertical-align: top;\n",
       "    }\n",
       "\n",
       "    .dataframe thead th {\n",
       "        text-align: right;\n",
       "    }\n",
       "</style>\n",
       "<table border=\"1\" class=\"dataframe\">\n",
       "  <thead>\n",
       "    <tr style=\"text-align: right;\">\n",
       "      <th></th>\n",
       "      <th>id_x</th>\n",
       "      <th>image_url</th>\n",
       "      <th>user_id_x</th>\n",
       "      <th>created_dat</th>\n",
       "      <th>id_y</th>\n",
       "      <th>comment_text</th>\n",
       "      <th>user_id_y</th>\n",
       "      <th>photo_id</th>\n",
       "      <th>created_at</th>\n",
       "    </tr>\n",
       "  </thead>\n",
       "  <tbody>\n",
       "    <tr>\n",
       "      <th>0</th>\n",
       "      <td>1</td>\n",
       "      <td>http://elijah.biz</td>\n",
       "      <td>1</td>\n",
       "      <td>2023-05-13 15:14:58</td>\n",
       "      <td>1.0</td>\n",
       "      <td>unde at dolorem</td>\n",
       "      <td>2.0</td>\n",
       "      <td>1.0</td>\n",
       "      <td>2023-05-13 15:14:58</td>\n",
       "    </tr>\n",
       "    <tr>\n",
       "      <th>1</th>\n",
       "      <td>1</td>\n",
       "      <td>http://elijah.biz</td>\n",
       "      <td>1</td>\n",
       "      <td>2023-05-13 15:14:58</td>\n",
       "      <td>2.0</td>\n",
       "      <td>quae ea ducimus</td>\n",
       "      <td>3.0</td>\n",
       "      <td>1.0</td>\n",
       "      <td>2023-05-13 15:14:58</td>\n",
       "    </tr>\n",
       "    <tr>\n",
       "      <th>2</th>\n",
       "      <td>1</td>\n",
       "      <td>http://elijah.biz</td>\n",
       "      <td>1</td>\n",
       "      <td>2023-05-13 15:14:58</td>\n",
       "      <td>3.0</td>\n",
       "      <td>alias a voluptatum</td>\n",
       "      <td>5.0</td>\n",
       "      <td>1.0</td>\n",
       "      <td>2023-05-13 15:14:58</td>\n",
       "    </tr>\n",
       "  </tbody>\n",
       "</table>\n",
       "</div>"
      ],
      "text/plain": [
       "   id_x          image_url  user_id_x          created_dat  id_y  \\\n",
       "0     1  http://elijah.biz          1  2023-05-13 15:14:58   1.0   \n",
       "1     1  http://elijah.biz          1  2023-05-13 15:14:58   2.0   \n",
       "2     1  http://elijah.biz          1  2023-05-13 15:14:58   3.0   \n",
       "\n",
       "         comment_text  user_id_y  photo_id           created_at  \n",
       "0     unde at dolorem        2.0       1.0  2023-05-13 15:14:58  \n",
       "1     quae ea ducimus        3.0       1.0  2023-05-13 15:14:58  \n",
       "2  alias a voluptatum        5.0       1.0  2023-05-13 15:14:58  "
      ]
     },
     "execution_count": 18,
     "metadata": {},
     "output_type": "execute_result"
    }
   ],
   "source": [
    "# Merge with comments dataset to get comments per photo\n",
    "photos_with_comments = pd.merge(\n",
    "    d1p,d1c, left_on='id', right_on='photo_id', how='left')\n",
    "photos_with_comments.head(3)"
   ]
  },
  {
   "cell_type": "code",
   "execution_count": 24,
   "metadata": {},
   "outputs": [
    {
     "data": {
      "text/plain": [
       "(1222, 9)"
      ]
     },
     "execution_count": 24,
     "metadata": {},
     "output_type": "execute_result"
    }
   ],
   "source": [
    "photo_tags.shape\n",
    "photos_with_comments.shape"
   ]
  },
  {
   "cell_type": "code",
   "execution_count": null,
   "metadata": {},
   "outputs": [],
   "source": [
    "# Merge with the photo-tags dataset to include tags associated with each photo\n",
    "photos_tags_comments = pd.merge(\n",
    "    photos_with_comments, photo_tags, left_on='id', right_on='photo_id', how='left')"
   ]
  },
  {
   "cell_type": "code",
   "execution_count": 27,
   "metadata": {},
   "outputs": [],
   "source": [
    "from sklearn.feature_extraction.text import TfidfVectorizer\n",
    "from sklearn.metrics.pairwise import cosine_similarity"
   ]
  },
  {
   "cell_type": "code",
   "execution_count": 28,
   "metadata": {},
   "outputs": [],
   "source": [
    "# Step 1: Vectorize Tags (TF-IDF)\n",
    "tag_vectorizer = TfidfVectorizer()\n",
    "tag_matrix = tag_vectorizer.fit_transform(d1t['tag_name'])"
   ]
  },
  {
   "cell_type": "code",
   "execution_count": 29,
   "metadata": {},
   "outputs": [],
   "source": [
    "# Step 2: Vectorize Comments (TF-IDF)\n",
    "comment_vectorizer = TfidfVectorizer()\n",
    "comment_matrix = comment_vectorizer.fit_transform(d1c['comment_text'])"
   ]
  },
  {
   "cell_type": "code",
   "execution_count": 34,
   "metadata": {},
   "outputs": [],
   "source": [
    "# Step 3: Vectorize Hashtags (TF-IDF)\n",
    "d2['hashtags'] = d2['hashtags'].fillna('')\n",
    "hashtag_vectorizer = TfidfVectorizer()\n",
    "hashtag_matrix = hashtag_vectorizer.fit_transform(d2['hashtags'])"
   ]
  },
  {
   "cell_type": "code",
   "execution_count": 39,
   "metadata": {},
   "outputs": [
    {
     "data": {
      "text/html": [
       "<div>\n",
       "<style scoped>\n",
       "    .dataframe tbody tr th:only-of-type {\n",
       "        vertical-align: middle;\n",
       "    }\n",
       "\n",
       "    .dataframe tbody tr th {\n",
       "        vertical-align: top;\n",
       "    }\n",
       "\n",
       "    .dataframe thead th {\n",
       "        text-align: right;\n",
       "    }\n",
       "</style>\n",
       "<table border=\"1\" class=\"dataframe\">\n",
       "  <thead>\n",
       "    <tr style=\"text-align: right;\">\n",
       "      <th></th>\n",
       "      <th>id</th>\n",
       "      <th>tag_name</th>\n",
       "      <th>created_at</th>\n",
       "    </tr>\n",
       "  </thead>\n",
       "  <tbody>\n",
       "    <tr>\n",
       "      <th>0</th>\n",
       "      <td>1</td>\n",
       "      <td>sunset</td>\n",
       "      <td>2023-05-13 15:14:58</td>\n",
       "    </tr>\n",
       "    <tr>\n",
       "      <th>1</th>\n",
       "      <td>2</td>\n",
       "      <td>photography</td>\n",
       "      <td>2023-05-13 15:14:58</td>\n",
       "    </tr>\n",
       "    <tr>\n",
       "      <th>2</th>\n",
       "      <td>3</td>\n",
       "      <td>sunrise</td>\n",
       "      <td>2023-05-13 15:14:58</td>\n",
       "    </tr>\n",
       "    <tr>\n",
       "      <th>3</th>\n",
       "      <td>4</td>\n",
       "      <td>landscape</td>\n",
       "      <td>2023-05-13 15:14:58</td>\n",
       "    </tr>\n",
       "    <tr>\n",
       "      <th>4</th>\n",
       "      <td>5</td>\n",
       "      <td>food</td>\n",
       "      <td>2023-05-13 15:14:58</td>\n",
       "    </tr>\n",
       "  </tbody>\n",
       "</table>\n",
       "</div>"
      ],
      "text/plain": [
       "   id     tag_name           created_at\n",
       "0   1       sunset  2023-05-13 15:14:58\n",
       "1   2  photography  2023-05-13 15:14:58\n",
       "2   3      sunrise  2023-05-13 15:14:58\n",
       "3   4    landscape  2023-05-13 15:14:58\n",
       "4   5         food  2023-05-13 15:14:58"
      ]
     },
     "execution_count": 39,
     "metadata": {},
     "output_type": "execute_result"
    }
   ],
   "source": [
    "d1t.head()"
   ]
  },
  {
   "cell_type": "code",
   "execution_count": 55,
   "metadata": {},
   "outputs": [],
   "source": [
    "input_photo_id = 1  # Example photo_id"
   ]
  },
  {
   "cell_type": "code",
   "execution_count": 56,
   "metadata": {},
   "outputs": [],
   "source": [
    "input_tags_vector = tag_matrix[input_photo_id]\n",
    "input_comments_vector = comment_matrix[input_photo_id]\n",
    "input_hashtags_vector = hashtag_matrix[input_photo_id]"
   ]
  },
  {
   "cell_type": "code",
   "execution_count": 57,
   "metadata": {},
   "outputs": [],
   "source": [
    "# Compute similarities for each feature set\n",
    "tag_similarities = cosine_similarity(input_tags_vector, tag_matrix)\n",
    "comment_similarities = cosine_similarity(input_comments_vector, comment_matrix)\n",
    "hashtag_similarities = cosine_similarity(input_hashtags_vector, hashtag_matrix)"
   ]
  },
  {
   "cell_type": "code",
   "execution_count": 58,
   "metadata": {},
   "outputs": [],
   "source": [
    "# Step 6: Normalize the similarities between 0 and 1 for fair comparison\n",
    "from sklearn.preprocessing import MinMaxScaler\n",
    "scaler = MinMaxScaler()"
   ]
  },
  {
   "cell_type": "code",
   "execution_count": 59,
   "metadata": {},
   "outputs": [],
   "source": [
    "tag_similarities_scaled = scaler.fit_transform(tag_similarities)\n",
    "comment_similarities_scaled = scaler.fit_transform(comment_similarities)\n",
    "hashtag_similarities_scaled = scaler.fit_transform(hashtag_similarities)"
   ]
  },
  {
   "cell_type": "code",
   "execution_count": 50,
   "metadata": {},
   "outputs": [],
   "source": [
    "# Tags Similarity\n",
    "tag_similarities = cosine_similarity(\n",
    "    tag_matrix[input_photo_id], tag_matrix).flatten()  # 1D array"
   ]
  },
  {
   "cell_type": "code",
   "execution_count": 51,
   "metadata": {},
   "outputs": [],
   "source": [
    "# Comments Similarity\n",
    "comment_similarities = cosine_similarity(\n",
    "    comment_matrix[input_photo_id], comment_matrix).flatten()  # 1D array"
   ]
  },
  {
   "cell_type": "code",
   "execution_count": 52,
   "metadata": {},
   "outputs": [],
   "source": [
    "# Hashtags Similarity\n",
    "hashtag_similarities = cosine_similarity(\n",
    "    hashtag_matrix[input_photo_id], hashtag_matrix).flatten()  # 1D array"
   ]
  },
  {
   "cell_type": "code",
   "execution_count": 62,
   "metadata": {},
   "outputs": [
    {
     "name": "stdout",
     "output_type": "stream",
     "text": [
      "Top recommended photos: [[ 0 18 17 16 15 14 13 12 11 19 10  8  7  6  5  4  3  2  9 20  1]]\n"
     ]
    }
   ],
   "source": [
    "# Step 7: Get top K recommendations based on combined similarity\n",
    "top_k_photos = tag_similarities.argsort(\n",
    ")[::-1][:10]  # Top 10 recommendations\n",
    "print(\"Top recommended photos:\", top_k_photos)"
   ]
  }
 ],
 "metadata": {
  "language_info": {
   "name": "python"
  }
 },
 "nbformat": 4,
 "nbformat_minor": 2
}
