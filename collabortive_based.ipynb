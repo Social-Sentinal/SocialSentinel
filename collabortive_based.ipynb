{
 "cells": [
  {
   "cell_type": "code",
   "execution_count": 1,
   "metadata": {},
   "outputs": [],
   "source": [
    "import pandas as pd\n",
    "import numpy as np\n",
    "from sklearn.metrics.pairwise import cosine_similarity"
   ]
  },
  {
   "cell_type": "code",
   "execution_count": 2,
   "metadata": {},
   "outputs": [
    {
     "data": {
      "text/html": [
       "<div>\n",
       "<style scoped>\n",
       "    .dataframe tbody tr th:only-of-type {\n",
       "        vertical-align: middle;\n",
       "    }\n",
       "\n",
       "    .dataframe tbody tr th {\n",
       "        vertical-align: top;\n",
       "    }\n",
       "\n",
       "    .dataframe thead th {\n",
       "        text-align: right;\n",
       "    }\n",
       "</style>\n",
       "<table border=\"1\" class=\"dataframe\">\n",
       "  <thead>\n",
       "    <tr style=\"text-align: right;\">\n",
       "      <th></th>\n",
       "      <th>Date</th>\n",
       "      <th>Impressions</th>\n",
       "      <th>From Home</th>\n",
       "      <th>From Hashtags</th>\n",
       "      <th>From Explore</th>\n",
       "      <th>From Other</th>\n",
       "      <th>Saves</th>\n",
       "      <th>Comments</th>\n",
       "      <th>Shares</th>\n",
       "      <th>Likes</th>\n",
       "      <th>Profile Visits</th>\n",
       "      <th>Follows</th>\n",
       "      <th>Conversion Rate</th>\n",
       "      <th>Caption</th>\n",
       "      <th>Hashtags</th>\n",
       "    </tr>\n",
       "  </thead>\n",
       "  <tbody>\n",
       "    <tr>\n",
       "      <th>0</th>\n",
       "      <td>2021-12-10</td>\n",
       "      <td>3920</td>\n",
       "      <td>2586</td>\n",
       "      <td>1028</td>\n",
       "      <td>619</td>\n",
       "      <td>56</td>\n",
       "      <td>98</td>\n",
       "      <td>9</td>\n",
       "      <td>5</td>\n",
       "      <td>162</td>\n",
       "      <td>35</td>\n",
       "      <td>2</td>\n",
       "      <td>5.714286</td>\n",
       "      <td>Here are some of the most important data visua...</td>\n",
       "      <td>#finance #money #business #investing #investme...</td>\n",
       "    </tr>\n",
       "    <tr>\n",
       "      <th>1</th>\n",
       "      <td>2021-12-11</td>\n",
       "      <td>5394</td>\n",
       "      <td>2727</td>\n",
       "      <td>1838</td>\n",
       "      <td>1174</td>\n",
       "      <td>78</td>\n",
       "      <td>194</td>\n",
       "      <td>7</td>\n",
       "      <td>14</td>\n",
       "      <td>224</td>\n",
       "      <td>48</td>\n",
       "      <td>10</td>\n",
       "      <td>20.833333</td>\n",
       "      <td>Here are some of the best data science project...</td>\n",
       "      <td>#healthcare #health #covid #data #datascience ...</td>\n",
       "    </tr>\n",
       "    <tr>\n",
       "      <th>2</th>\n",
       "      <td>2021-12-12</td>\n",
       "      <td>4021</td>\n",
       "      <td>2085</td>\n",
       "      <td>1188</td>\n",
       "      <td>0</td>\n",
       "      <td>533</td>\n",
       "      <td>41</td>\n",
       "      <td>11</td>\n",
       "      <td>1</td>\n",
       "      <td>131</td>\n",
       "      <td>62</td>\n",
       "      <td>12</td>\n",
       "      <td>19.354839</td>\n",
       "      <td>Learn how to train a machine learning model an...</td>\n",
       "      <td>#data #datascience #dataanalysis #dataanalytic...</td>\n",
       "    </tr>\n",
       "  </tbody>\n",
       "</table>\n",
       "</div>"
      ],
      "text/plain": [
       "         Date  Impressions  From Home  From Hashtags  From Explore  \\\n",
       "0  2021-12-10         3920       2586           1028           619   \n",
       "1  2021-12-11         5394       2727           1838          1174   \n",
       "2  2021-12-12         4021       2085           1188             0   \n",
       "\n",
       "   From Other  Saves  Comments  Shares  Likes  Profile Visits  Follows  \\\n",
       "0          56     98         9       5    162              35        2   \n",
       "1          78    194         7      14    224              48       10   \n",
       "2         533     41        11       1    131              62       12   \n",
       "\n",
       "   Conversion Rate                                            Caption  \\\n",
       "0         5.714286  Here are some of the most important data visua...   \n",
       "1        20.833333  Here are some of the best data science project...   \n",
       "2        19.354839  Learn how to train a machine learning model an...   \n",
       "\n",
       "                                            Hashtags  \n",
       "0  #finance #money #business #investing #investme...  \n",
       "1  #healthcare #health #covid #data #datascience ...  \n",
       "2  #data #datascience #dataanalysis #dataanalytic...  "
      ]
     },
     "execution_count": 2,
     "metadata": {},
     "output_type": "execute_result"
    }
   ],
   "source": [
    "df = pd.read_csv(\"Instagram_data.csv\")\n",
    "df.head(3)"
   ]
  },
  {
   "cell_type": "code",
   "execution_count": 3,
   "metadata": {},
   "outputs": [],
   "source": [
    "df['user_id'] = df.index % 5 + 1"
   ]
  },
  {
   "cell_type": "code",
   "execution_count": 4,
   "metadata": {},
   "outputs": [],
   "source": [
    "df['post_id'] = df.index + 101"
   ]
  },
  {
   "cell_type": "code",
   "execution_count": 5,
   "metadata": {},
   "outputs": [],
   "source": [
    "df['interaction'] = df['Likes'] + df['Comments'] + df['Shares']"
   ]
  },
  {
   "cell_type": "code",
   "execution_count": 6,
   "metadata": {},
   "outputs": [],
   "source": [
    "# Create a user-item matrix based on interactions\n",
    "user_item_matrix = df.pivot_table(\n",
    "    index='user_id', columns='post_id', values='interaction', fill_value=0)"
   ]
  },
  {
   "cell_type": "code",
   "execution_count": 7,
   "metadata": {},
   "outputs": [],
   "source": [
    "# Calculate cosine similarity between users\n",
    "user_similarity = cosine_similarity(user_item_matrix)\n",
    "user_similarity_df = pd.DataFrame(\n",
    "    user_similarity, index=user_item_matrix.index, columns=user_item_matrix.index)"
   ]
  },
  {
   "cell_type": "code",
   "execution_count": 8,
   "metadata": {},
   "outputs": [],
   "source": [
    "# Function to get recommendations for a user\n",
    "def recommend_posts(user_id, user_item_matrix, user_similarity_df, num_recommendations=2):\n",
    "    # Find similar users to the given user_id\n",
    "    similar_users = user_similarity_df[user_id].sort_values(\n",
    "        ascending=False).index[1:]\n",
    "\n",
    "    # Find posts liked by similar users but not by the given user\n",
    "    similar_users_posts = user_item_matrix.loc[similar_users].sum(axis=0)\n",
    "    user_posts = user_item_matrix.loc[user_id]\n",
    "\n",
    "    # Filter out posts the user has already interacted with\n",
    "    recommendations = similar_users_posts[user_posts == 0].sort_values(\n",
    "        ascending=False).head(num_recommendations)\n",
    "\n",
    "    return recommendations.index.tolist()"
   ]
  },
  {
   "cell_type": "markdown",
   "metadata": {},
   "source": [
    "## Colaborative Based"
   ]
  },
  {
   "cell_type": "markdown",
   "metadata": {},
   "source": [
    "# Create synthetic user-post interaction data\n",
    "user_ids = ['user_1', 'user_2', 'user_3', 'user_4', 'user_5']\n",
    "content_ids = final_data['url']  # Use URLs or post IDs from the final_data dataframe"
   ]
  },
  {
   "cell_type": "code",
   "execution_count": null,
   "metadata": {},
   "outputs": [],
   "source": [
    "# Randomly generate likes (interaction between users and posts)\n",
    "np.random.seed(42)\n",
    "interactions = np.random.randint(0, 2, size=(len(user_ids), len(content_ids)))"
   ]
  },
  {
   "cell_type": "code",
   "execution_count": null,
   "metadata": {},
   "outputs": [],
   "source": [
    "# Create a user-item interaction DataFrame\n",
    "interaction_df = pd.DataFrame(\n",
    "    interactions, index=user_ids, columns=content_ids)\n",
    "\n",
    "# Visualize the interaction matrix\n",
    "print(interaction_df.head())"
   ]
  },
  {
   "cell_type": "code",
   "execution_count": null,
   "metadata": {},
   "outputs": [],
   "source": [
    "from sklearn.decomposition import TruncatedSVD\n",
    "from sklearn.metrics.pairwise import cosine_similarity"
   ]
  },
  {
   "cell_type": "code",
   "execution_count": null,
   "metadata": {},
   "outputs": [],
   "source": [
    "# Perform SVD on the interaction matrix\n",
    "svd = TruncatedSVD(n_components=5)  # You can tune the number of components\n",
    "svd_matrix = svd.fit_transform(interaction_df)\n",
    "\n",
    "# Compute cosine similarity between content\n",
    "item_similarity = cosine_similarity(svd_matrix.T)\n",
    "\n",
    "# Convert the similarity matrix to a DataFrame for ease of use\n",
    "item_sim_df = pd.DataFrame(\n",
    "    item_similarity, index=content_ids, columns=content_ids)\n",
    "print(item_sim_df.head())"
   ]
  },
  {
   "cell_type": "code",
   "execution_count": null,
   "metadata": {},
   "outputs": [],
   "source": [
    "def get_collaborative_recommendations(content_id, num_recommendations=5):\n",
    "    # Get similarity scores for the given content ID\n",
    "    sim_scores = item_sim_df[content_id].sort_values(ascending=False)\n",
    "\n",
    "    # Get the top N recommendations, excluding the current item\n",
    "    top_recommendations = sim_scores.iloc[1:num_recommendations+1].index\n",
    "\n",
    "    return top_recommendations\n",
    "\n",
    "\n",
    "# Example usage:\n",
    "print(get_collaborative_recommendations(content_ids[0], num_recommendations=5))"
   ]
  },
  {
   "cell_type": "code",
   "execution_count": null,
   "metadata": {},
   "outputs": [],
   "source": [
    "from sklearn.metrics import mean_squared_error\n",
    "from math import sqrt\n",
    "\n",
    "# Get the original interaction matrix\n",
    "interaction_matrix = interaction_df.values\n",
    "\n",
    "# Predict the full matrix using SVD\n",
    "predicted_matrix = np.dot(svd_matrix, svd.components_)\n",
    "\n",
    "# Calculate the RMSE between actual and predicted interactions\n",
    "rmse = sqrt(mean_squared_error(interaction_matrix, predicted_matrix))\n",
    "print(f\"RMSE: {rmse}\")"
   ]
  },
  {
   "cell_type": "code",
   "execution_count": null,
   "metadata": {},
   "outputs": [],
   "source": [
    "import pickle\n",
    "\n",
    "# Save the SVD model\n",
    "with open('svd_model.pkl', 'wb') as f:\n",
    "    pickle.dump(svd, f)\n",
    "\n",
    "# Save the item similarity matrix\n",
    "item_sim_df.to_csv('item_similarity_matrix.csv')"
   ]
  },
  {
   "cell_type": "code",
   "execution_count": null,
   "metadata": {},
   "outputs": [],
   "source": [
    "# Load SVD model\n",
    "with open('svd_model.pkl', 'rb') as f:\n",
    "    svd = pickle.load(f)\n",
    "\n",
    "# Load item similarity matrix\n",
    "item_sim_df = pd.read_csv('item_similarity_matrix.csv', index_col=0)"
   ]
  },
  {
   "cell_type": "code",
   "execution_count": null,
   "metadata": {},
   "outputs": [],
   "source": [
    "# Get recommendations for a specific post or reel\n",
    "content_id = content_ids[0]  # Example: First post\n",
    "recommendations = get_collaborative_recommendations(\n",
    "    content_id, num_recommendations=5)\n",
    "print(f\"Top 5 recommendations for {content_id}: {recommendations}\")"
   ]
  }
 ],
 "metadata": {
  "language_info": {
   "name": "python"
  }
 },
 "nbformat": 4,
 "nbformat_minor": 2
}
