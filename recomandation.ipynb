{
 "cells": [
  {
   "cell_type": "code",
   "execution_count": 1,
   "metadata": {},
   "outputs": [],
   "source": [
    "import pandas as pd\n",
    "from sklearn.metrics.pairwise import cosine_similarity\n",
    "from sklearn.feature_extraction.text import CountVectorizer\n",
    "from textblob import TextBlob\n",
    "import numpy as np"
   ]
  },
  {
   "cell_type": "code",
   "execution_count": 2,
   "metadata": {},
   "outputs": [],
   "source": [
    "# Sample dataset: user interactions with posts\n",
    "data = {\n",
    "    'user_id': [1, 1, 1, 2, 2, 3, 3],\n",
    "    'post_id': [101, 102, 103, 101, 104, 103, 105],\n",
    "    'interaction': [1, 1, 0, 1, 1, 0, 1],  # 1: interacted, 0: not interested\n",
    "    'post_content': [\n",
    "        \"I love this new feature\",\n",
    "        \"This is a terrible update\",\n",
    "        \"Amazing picture of the sunset\",\n",
    "        \"I love this new feature\",\n",
    "        \"Great improvements in the design\",\n",
    "        \"Amazing picture of the sunset\",\n",
    "        \"Nice work, keep it up!\"\n",
    "    ]\n",
    "}"
   ]
  },
  {
   "cell_type": "code",
   "execution_count": 3,
   "metadata": {},
   "outputs": [],
   "source": [
    "df = pd.DataFrame(data)"
   ]
  },
  {
   "cell_type": "code",
   "execution_count": 4,
   "metadata": {},
   "outputs": [],
   "source": [
    "# Collaborative Filtering: Creating a user-post interaction matrix\n",
    "interaction_matrix = df.pivot_table(\n",
    "    index='user_id', columns='post_id', values='interaction').fillna(0)"
   ]
  },
  {
   "cell_type": "code",
   "execution_count": 5,
   "metadata": {},
   "outputs": [],
   "source": [
    "# Cosine similarity between users\n",
    "user_similarity = cosine_similarity(interaction_matrix)\n",
    "user_similarity_df = pd.DataFrame(\n",
    "    user_similarity, index=interaction_matrix.index, columns=interaction_matrix.index)"
   ]
  },
  {
   "cell_type": "code",
   "execution_count": 6,
   "metadata": {},
   "outputs": [],
   "source": [
    "# Get recommendations for a specific user (e.g., user 1)\n",
    "def get_collaborative_recommendations(user_id, interaction_matrix, user_similarity_df, top_n=2):\n",
    "    # Find similar users\n",
    "    similar_users = user_similarity_df[user_id].sort_values(ascending=False)[\n",
    "        1:]\n",
    "    similar_user_id = similar_users.index[0]\n",
    "\n",
    "    # Find posts the similar user has interacted with\n",
    "    similar_user_posts = interaction_matrix.loc[similar_user_id]\n",
    "\n",
    "    # Recommend posts not interacted by current user\n",
    "    user_posts = interaction_matrix.loc[user_id]\n",
    "    recommended_posts = similar_user_posts[(\n",
    "        similar_user_posts > 0) & (user_posts == 0)].index.tolist()\n",
    "\n",
    "    return recommended_posts[:top_n]"
   ]
  },
  {
   "cell_type": "code",
   "execution_count": 7,
   "metadata": {},
   "outputs": [],
   "source": [
    "# Sentiment Analysis: Filter recommendations based on sentiment\n",
    "def analyze_sentiment(post_content):\n",
    "    sentiment = TextBlob(post_content).sentiment.polarity\n",
    "    return sentiment"
   ]
  },
  {
   "cell_type": "code",
   "execution_count": 8,
   "metadata": {},
   "outputs": [],
   "source": [
    "def filter_by_sentiment(recommended_posts, df, sentiment_threshold=0.0):\n",
    "    filtered_posts = []\n",
    "    for post_id in recommended_posts:\n",
    "        post_content = df[df['post_id'] == post_id]['post_content'].values[0]\n",
    "        sentiment = analyze_sentiment(post_content)\n",
    "        if sentiment >= sentiment_threshold:  # Only recommend positive or neutral posts\n",
    "            filtered_posts.append(post_id)\n",
    "    return filtered_posts"
   ]
  },
  {
   "cell_type": "code",
   "execution_count": 9,
   "metadata": {},
   "outputs": [
    {
     "name": "stdout",
     "output_type": "stream",
     "text": [
      "Collaborative Filtering Recommendations for User 1: [104]\n"
     ]
    }
   ],
   "source": [
    "# Example: Get recommendations for user 1\n",
    "user_id = 1\n",
    "collab_recommendations = get_collaborative_recommendations(\n",
    "    user_id, interaction_matrix, user_similarity_df)\n",
    "print(\n",
    "    f\"Collaborative Filtering Recommendations for User {user_id}: {collab_recommendations}\")"
   ]
  },
  {
   "cell_type": "code",
   "execution_count": 10,
   "metadata": {},
   "outputs": [
    {
     "name": "stdout",
     "output_type": "stream",
     "text": [
      "Final Recommendations after Sentiment Analysis for User 1: [104]\n"
     ]
    }
   ],
   "source": [
    "# Apply sentiment analysis filter\n",
    "final_recommendations = filter_by_sentiment(collab_recommendations, df)\n",
    "print(\n",
    "    f\"Final Recommendations after Sentiment Analysis for User {user_id}: {final_recommendations}\")"
   ]
  }
 ],
 "metadata": {
  "language_info": {
   "name": "python"
  }
 },
 "nbformat": 4,
 "nbformat_minor": 2
}
